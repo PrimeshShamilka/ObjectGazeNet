{
 "cells": [
  {
   "cell_type": "code",
   "execution_count": 1,
   "metadata": {},
   "outputs": [],
   "source": [
    "import torch\n",
    "from torchvision import transforms, models\n",
    "import torch.nn as nn\n",
    "from torch.utils.data import Dataset, DataLoader"
   ]
  },
  {
   "cell_type": "code",
   "execution_count": 3,
   "metadata": {},
   "outputs": [],
   "source": [
    "from models.shashimal2 import Shashimal2\n",
    "from models.primesh import Primesh\n",
    "from models.__init__ import save_checkpoint, resume_checkpoint\n",
    "#from dataloader.shashimal2_synth import GooDataset\n",
    "from dataloader.shashimal2 import GooDataset\n",
    "from dataloader import chong_imutils\n",
    "from training.train_shashimal2 import train, test, GazeOptimizer, test_gop, train_with_early_stopping\n",
    "from torch.nn.utils.rnn import pad_sequence"
   ]
  },
  {
   "cell_type": "code",
   "execution_count": 4,
   "metadata": {},
   "outputs": [
    {
     "name": "stdout",
     "output_type": "stream",
     "text": [
      "Number of Images: 2450\n",
      "Number of Images: 2146\n"
     ]
    }
   ],
   "source": [
    "batch_size=4\n",
    "workers=4\n",
    "\n",
    "images_dir = '/media/primesh/F4D0EA80D0EA4906/PROJECTS/FYP/Gaze detection/Datasets/gooreal/finalrealdatasetImgsV2'\n",
    "pickle_path = '/media/primesh/F4D0EA80D0EA4906/PROJECTS/FYP/Gaze detection/Datasets/gooreal/oneshotrealhumansNew.pickle'\n",
    "test_images_dir = '/media/primesh/F4D0EA80D0EA4906/PROJECTS/FYP/Gaze detection/Datasets/gooreal/finalrealdatasetImgsV2'\n",
    "test_pickle_path = '/media/primesh/F4D0EA80D0EA4906/PROJECTS/FYP/Gaze detection/Datasets/gooreal/testrealhumansNew.pickle'\n",
    "\n",
    "def pad_x_collate_function(batch):\n",
    "    # batch looks like [(x0,y0), (x4,y4), (x2,y2)... ]\n",
    "    img, face, head_channel, object_channel,gaze_final,eye,gaze_idx,gt_bboxes,gt_labels = zip(*batch)\n",
    "\n",
    "    # If you want to be a little fancy, you can do the above in one line\n",
    "    # xs, ys = zip(*samples)\n",
    "    img = pad_sequence(img, batch_first=True, padding_value=0)\n",
    "    face = pad_sequence(face, batch_first=True, padding_value=0)\n",
    "    head_channel = pad_sequence(head_channel, batch_first=True, padding_value=0)\n",
    "    object_channel = pad_sequence(object_channel, batch_first=True, padding_value=0)\n",
    "    #eye = pad_sequence(eye, batch_first=True, padding_value=0)\n",
    "    #gaze = pad_sequence(gaze, batch_first=True, padding_value=0)\n",
    "    #gtbox = pad_sequence(gtbox, batch_first=True, padding_value=0)\n",
    "    #gt_bboxes = pad_sequence(gt_bboxes, batch_first=True, padding_value=0)\n",
    "    return img, face, head_channel, object_channel,gaze_final,eye,gaze_idx,zip(*gt_bboxes),zip(*gt_labels)\n",
    "\n",
    "train_set = GooDataset(images_dir, pickle_path, 'train')\n",
    "train_data_loader = DataLoader(dataset=train_set,\n",
    "                                           batch_size=batch_size,\n",
    "                                           shuffle=True,\n",
    "                                           num_workers=4)\n",
    "\n",
    "test_set = GooDataset(test_images_dir, test_pickle_path, 'test')\n",
    "test_data_loader = DataLoader(test_set, batch_size=1,\n",
    "                            shuffle=False, num_workers=4, collate_fn=pad_x_collate_function, drop_last=True)"
   ]
  },
  {
   "cell_type": "code",
   "execution_count": 40,
   "metadata": {},
   "outputs": [],
   "source": [
    "img, face, head_channel, object_channel, gaze_final, eye, gaze_idx, gt_bboxes, gt_labels  = next(iter(test_data_loader))"
   ]
  },
  {
   "cell_type": "code",
   "execution_count": 5,
   "metadata": {},
   "outputs": [],
   "source": [
    "import numpy as np\n",
    "import matplotlib.pyplot as plt"
   ]
  },
  {
   "cell_type": "code",
   "execution_count": 15,
   "metadata": {},
   "outputs": [],
   "source": [
    "image = img.cuda()\n",
    "head_channel = head_channel.cuda()\n",
    "face = face.cuda()\n",
    "object_channel = object_channel.cuda()\n",
    "gt_bboxes = np.array(list(gt_bboxes))\n",
    "gt_labels = np.array(list(gt_labels))\n",
    "gaze_idx = np.array(gaze_idx)\n",
    "# outputs, raw_hm = model.raw_hm(image, face, head_channel, object_channel)"
   ]
  },
  {
   "cell_type": "code",
   "execution_count": 31,
   "metadata": {},
   "outputs": [
    {
     "data": {
      "text/plain": [
       "torch.Size([1, 3, 224, 224])"
      ]
     },
     "execution_count": 31,
     "metadata": {},
     "output_type": "execute_result"
    }
   ],
   "source": [
    "image.shape"
   ]
  },
  {
   "cell_type": "code",
   "execution_count": 16,
   "metadata": {},
   "outputs": [
    {
     "data": {
      "text/plain": [
       "(84, 1, 4)"
      ]
     },
     "execution_count": 16,
     "metadata": {},
     "output_type": "execute_result"
    }
   ],
   "source": [
    "gt_bboxes.shape"
   ]
  },
  {
   "cell_type": "code",
   "execution_count": 17,
   "metadata": {},
   "outputs": [
    {
     "data": {
      "text/plain": [
       "array([[11, 63, 22, 97]])"
      ]
     },
     "execution_count": 17,
     "metadata": {},
     "output_type": "execute_result"
    }
   ],
   "source": [
    "b0=gt_bboxes[0]\n",
    "b0=(b0 * 224).astype(int)\n",
    "b0"
   ]
  },
  {
   "cell_type": "code",
   "execution_count": 18,
   "metadata": {},
   "outputs": [
    {
     "data": {
      "text/plain": [
       "torch.Size([1, 3, 224, 224])"
      ]
     },
     "execution_count": 18,
     "metadata": {},
     "output_type": "execute_result"
    }
   ],
   "source": [
    "image.shape"
   ]
  },
  {
   "cell_type": "code",
   "execution_count": 25,
   "metadata": {},
   "outputs": [],
   "source": [
    "i=image.squeeze().detach().cpu().numpy().transpose(1,2,0)"
   ]
  },
  {
   "cell_type": "code",
   "execution_count": 20,
   "metadata": {},
   "outputs": [],
   "source": [
    "b=np.zeros((224,224), dtype='float32')"
   ]
  },
  {
   "cell_type": "code",
   "execution_count": 21,
   "metadata": {},
   "outputs": [],
   "source": [
    "# convert bbox to binary image\n",
    "bbox_l=[]\n",
    "for i in range(gt_bboxes.shape[0]):\n",
    "    bbox=(gt_bboxes[i]*224).astype(int)\n",
    "    xmin, ymin, xmax, ymax = bbox[0]\n",
    "    b=np.zeros((224,224), dtype='float32')\n",
    "    assert xmin<xmax\n",
    "    assert ymin<ymax\n",
    "    for j in range(ymin, ymax):\n",
    "        for k in range(xmin, xmax):\n",
    "            b[j][k]=1\n",
    "    bbox_l.append(b)"
   ]
  },
  {
   "cell_type": "code",
   "execution_count": 26,
   "metadata": {},
   "outputs": [
    {
     "data": {
      "text/plain": [
       "(224, 224, 3)"
      ]
     },
     "execution_count": 26,
     "metadata": {},
     "output_type": "execute_result"
    }
   ],
   "source": [
    "i.shape"
   ]
  },
  {
   "cell_type": "code",
   "execution_count": 27,
   "metadata": {},
   "outputs": [
    {
     "name": "stderr",
     "output_type": "stream",
     "text": [
      "WARNING:matplotlib.image:Clipping input data to the valid range for imshow with RGB data ([0..1] for floats or [0..255] for integers).\n"
     ]
    }
   ],
   "source": [
    "plt.imshow(i)\n",
    "plt.imshow(bbox_l[13], 'jet', interpolation='none', alpha=0.8)\n",
    "\n",
    "plt.savefig('bbox.png')"
   ]
  },
  {
   "cell_type": "code",
   "execution_count": 23,
   "metadata": {},
   "outputs": [
    {
     "name": "stderr",
     "output_type": "stream",
     "text": [
      "<ipython-input-23-417241893c3c>:2: UserWarning: Matplotlib is currently using agg, which is a non-GUI backend, so cannot show the figure.\n",
      "  plt.show()\n"
     ]
    }
   ],
   "source": [
    "plt.imshow(b)\n",
    "plt.show()"
   ]
  },
  {
   "cell_type": "code",
   "execution_count": 28,
   "metadata": {},
   "outputs": [
    {
     "name": "stdout",
     "output_type": "stream",
     "text": [
      "26\n"
     ]
    }
   ],
   "source": [
    "import gc\n",
    "\n",
    "gc.collect()\n",
    "\n",
    "torch.cuda.empty_cache()\n",
    "\n",
    "\n",
    "device = torch.device(\"cuda:0\" if torch.cuda.is_available() else \"cpu\")\n",
    "model_ft = Shashimal2()\n",
    "\n",
    "\n",
    "model_ft = model_ft.to(device)\n",
    "\n",
    "criterion = nn.NLLLoss().cuda()\n",
    "# criterion =\n",
    "\n",
    "# Observe that all parameters are being optimized\n",
    "start_epoch = 0\n",
    "max_epoch = 5\n",
    "learning_rate = 1e-4\n",
    "\n",
    "# Initializes Optimizer\n",
    "gaze_opt = GazeOptimizer(model_ft, learning_rate)\n",
    "optimizer = gaze_opt.getOptimizer(start_epoch)\n",
    "if True:\n",
    "    checkpoint_fpath = '/media/primesh/F4D0EA80D0EA4906/PROJECTS/FYP/Gaze detection/code/ObjectGazeNet/saved_weights/shashimal2_gazefollow_6_gooreal_16_chechkpoint_full.pt'\n",
    "    checkpoint = torch.load(checkpoint_fpath)\n",
    "    model_ft.load_state_dict(checkpoint['state_dict'])\n",
    "    optimizer.load_state_dict(checkpoint['optimizer'])\n"
   ]
  },
  {
   "cell_type": "code",
   "execution_count": 35,
   "metadata": {},
   "outputs": [
    {
     "data": {
      "text/plain": [
       "torch.Size([1, 1, 224, 224])"
      ]
     },
     "execution_count": 35,
     "metadata": {},
     "output_type": "execute_result"
    }
   ],
   "source": [
    "object_channel.shape"
   ]
  },
  {
   "cell_type": "code",
   "execution_count": null,
   "metadata": {},
   "outputs": [],
   "source": []
  },
  {
   "cell_type": "code",
   "execution_count": null,
   "metadata": {},
   "outputs": [],
   "source": []
  }
 ],
 "metadata": {
  "interpreter": {
   "hash": "d41fe366bd4cbcce407d002271348a831506e2afabf547b968f9045c3632f476"
  },
  "kernelspec": {
   "display_name": "Python 3",
   "language": "python",
   "name": "python3"
  },
  "language_info": {
   "codemirror_mode": {
    "name": "ipython",
    "version": 3
   },
   "file_extension": ".py",
   "mimetype": "text/x-python",
   "name": "python",
   "nbconvert_exporter": "python",
   "pygments_lexer": "ipython3",
   "version": "3.9.5"
  }
 },
 "nbformat": 4,
 "nbformat_minor": 2
}
